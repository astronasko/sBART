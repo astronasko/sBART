{
 "cells": [
  {
   "cell_type": "markdown",
   "metadata": {},
   "source": [
    "# Acessing the stored RVs"
   ]
  },
  {
   "cell_type": "code",
   "execution_count": 1,
   "metadata": {},
   "outputs": [
    {
     "name": "stdout",
     "output_type": "stream",
     "text": [
      "weee environ({'CHROME_DESKTOP': 'code-insiders-url-handler.desktop', 'CLUSTER_TOOLS_LOC': '/home/amiguel/phd/tools/cluster_tools', 'DBUS_SESSION_BUS_ADDRESS': 'unix:path=/run/user/1000/bus', 'DEFAULTS_PATH': '/usr/share/gconf/ubuntu.default.path', 'DESKTOP_SESSION': 'ubuntu', 'DISPLAY': ':1', 'GDK_BACKEND': 'x11', 'GDMSESSION': 'ubuntu', 'GIO_LAUNCHED_DESKTOP_FILE': '/usr/share/applications/code-insiders.desktop', 'GIO_LAUNCHED_DESKTOP_FILE_PID': '13454', 'GJS_DEBUG_OUTPUT': 'stderr', 'GJS_DEBUG_TOPICS': 'JS ERROR;JS LOG', 'GNOME_DESKTOP_SESSION_ID': 'this-is-deprecated', 'GNOME_SHELL_SESSION_MODE': 'ubuntu', 'GPG_AGENT_INFO': '/run/user/1000/gnupg/S.gpg-agent:0:1', 'GTK_MODULES': 'gail:atk-bridge', 'HOME': '/home/amiguel', 'IM_CONFIG_PHASE': '1', 'INVOCATION_ID': 'dac1328443b5426f851174f571bfa938', 'JOURNAL_STREAM': '9:58154', 'LANG': 'en_GB.UTF-8', 'LANGUAGE': 'en_GB:en', 'LC_ADDRESS': 'pt_PT.UTF-8', 'LC_CTYPE': 'pt_PT.UTF-8', 'LC_IDENTIFICATION': 'pt_PT.UTF-8', 'LC_MEASUREMENT': 'pt_PT.UTF-8', 'LC_MONETARY': 'pt_PT.UTF-8', 'LC_NAME': 'pt_PT.UTF-8', 'LC_NUMERIC': 'pt_PT.UTF-8', 'LC_PAPER': 'pt_PT.UTF-8', 'LC_TELEPHONE': 'pt_PT.UTF-8', 'LC_TIME': 'pt_PT.UTF-8', 'LESS': '-R', 'LOGNAME': 'amiguel', 'LSCOLORS': 'Gxfxcxdxbxegedabagacad', 'MANAGERPID': '2858', 'MANDATORY_PATH': '/usr/share/gconf/ubuntu.mandatory.path', 'OLDPWD': '/home/amiguel', 'ORIGINAL_XDG_CURRENT_DESKTOP': 'ubuntu:GNOME', 'PAGER': 'cat', 'PAPERSIZE': 'a4', 'PATH': '/home/amiguel/phd/tools/sBART_private/.venv/bin:/home/amiguel/.cargo/bin:/home/amiguel/.local/bin:/home/amiguel/bin:/usr/local/sbin:/usr/local/bin:/usr/sbin:/usr/bin:/sbin:/bin:/usr/games:/usr/local/games:/snap/bin', 'PWD': '/home/amiguel', 'QT_ACCESSIBILITY': '1', 'QT_IM_MODULE': 'ibus', 'REPORTS_LOC': '/home/amiguel/phd/reports', 'SBART_LOC': '/home/amiguel/seminar', 'SESSION_MANAGER': 'local/amiguel-caup-lan:@/tmp/.ICE-unix/3204,unix/amiguel-caup-lan:/tmp/.ICE-unix/3204', 'SHELL': '/usr/bin/zsh', 'SHLVL': '0', 'SSH_AGENT_PID': '3088', 'SSH_AUTH_SOCK': '/run/user/1000/keyring/ssh', 'SSHpw': 'Cp9power', 'USER': 'amiguel', 'USERNAME': 'amiguel', 'VSCODE_AMD_ENTRYPOINT': 'vs/workbench/api/node/extensionHostProcess', 'VSCODE_CODE_CACHE_PATH': '/home/amiguel/.config/Code - Insiders/CachedData/41e601871ac9e197b6a9245072994f6904addb60', 'VSCODE_CRASH_REPORTER_PROCESS_TYPE': 'extensionHost', 'VSCODE_CWD': '/home/amiguel', 'VSCODE_HANDLES_UNCAUGHT_ERRORS': 'true', 'VSCODE_IPC_HOOK': '/run/user/1000/vscode-92216f8c-1.87-main.sock', 'VSCODE_NLS_CONFIG': '{\"locale\":\"en-gb\",\"osLocale\":\"en-gb\",\"availableLanguages\":{},\"_languagePackSupport\":true}', 'VSCODE_PID': '13454', 'WINDOWPATH': '2', 'XAUTHORITY': '/run/user/1000/gdm/Xauthority', 'XDG_CONFIG_DIRS': '/etc/xdg/xdg-ubuntu:/etc/xdg', 'XDG_CURRENT_DESKTOP': 'Unity', 'XDG_DATA_DIRS': '/usr/share/ubuntu:/usr/local/share/:/usr/share/:/var/lib/snapd/desktop', 'XDG_MENU_PREFIX': 'gnome-', 'XDG_RUNTIME_DIR': '/run/user/1000', 'XDG_SESSION_CLASS': 'user', 'XDG_SESSION_DESKTOP': 'ubuntu', 'XDG_SESSION_TYPE': 'x11', 'XMODIFIERS': '@im=ibus', 'ZSH': '/home/amiguel/.oh-my-zsh', '_': '/home/amiguel/phd/tools/sBART_private/.venv/bin/python', 'ELECTRON_RUN_AS_NODE': '1', 'PYTHONUNBUFFERED': '1', 'VIRTUAL_ENV': '/home/amiguel/phd/tools/sBART_private/.venv', 'PYTHONIOENCODING': 'utf-8', 'PS1': '(.venv) ', 'PYDEVD_IPYTHON_COMPATIBLE_DEBUGGING': '1', 'PYDEVD_USE_FRAME_EVAL': 'NO', 'TERM': 'xterm-color', 'CLICOLOR': '1', 'GIT_PAGER': 'cat', 'MPLBACKEND': 'module://matplotlib_inline.backend_inline', 'NO_GRAPHICAL_BACKEND': 'True'})\n"
     ]
    },
    {
     "name": "stderr",
     "output_type": "stream",
     "text": [
      "/home/amiguel/phd/tools/sBART_private/.venv/lib/python3.8/site-packages/pysynphot/locations.py:46: UserWarning: PYSYN_CDBS is undefined; functionality will be SEVERELY crippled.\n",
      "  warnings.warn(\"PYSYN_CDBS is undefined; functionality will be SEVERELY \"\n",
      "/home/amiguel/phd/tools/sBART_private/.venv/lib/python3.8/site-packages/pysynphot/locations.py:345: UserWarning: Extinction files not found in extinction\n",
      "  warnings.warn('Extinction files not found in %s' % (extdir, ))\n",
      "/tmp/ipykernel_24285/3418271947.py:31: UserWarning: Matplotlib is currently using agg, which is a non-GUI backend, so cannot show the figure.\n",
      "  plt.show()\n"
     ]
    }
   ],
   "source": [
    "import os \n",
    "os.environ[\"NO_GRAPHICAL_BACKEND\"] = \"False\"\n",
    "\n",
    "import matplotlib.pyplot as plt \n",
    "from SBART.outside_tools.Load_RVoutputs import find_RVoutputs\n",
    "from SBART.utils.units import meter_second\n",
    "from pathlib import Path \n",
    "\n",
    "out_path = \"/home/amiguel/phd/tools/sBART_private/tests/documentation_outputs/Iteration_0/RV_step\"\n",
    "\n",
    "data_holder = find_RVoutputs(out_path)\n",
    "insts = data_holder.get_stored_subInsts(merged=False)\n",
    "\n",
    "fig, axis = plt.subplots(len(insts))\n",
    "for inst_index, inst in enumerate(insts):\n",
    "    cube = data_holder.get_RV_cube(inst, merged=False)\n",
    "\n",
    "    for key in [\"SBART\", \"DRS\"]:\n",
    "        bjds, rvs, errors = cube.get_RV_timeseries(key,\n",
    "                                                apply_SA_corr=False,\n",
    "                                                as_value=True,\n",
    "                                                units=meter_second\n",
    "                                                )\n",
    "    \n",
    "        axis.scatter(bjds, rvs, label=key)\n",
    "\n",
    "axis.legend(ncol=2, loc=4, bbox_to_anchor=(1,1))\n",
    "axis.set_xlabel(\"BJD [days]\")\n",
    "axis.set_ylabel(\"RV [m/s]\")\n",
    "\n",
    "plt.show()"
   ]
  }
 ],
 "metadata": {
  "kernelspec": {
   "display_name": ".venv",
   "language": "python",
   "name": "python3"
  },
  "language_info": {
   "codemirror_mode": {
    "name": "ipython",
    "version": 3
   },
   "file_extension": ".py",
   "mimetype": "text/x-python",
   "name": "python",
   "nbconvert_exporter": "python",
   "pygments_lexer": "ipython3",
   "version": "3.8.12"
  }
 },
 "nbformat": 4,
 "nbformat_minor": 2
}
